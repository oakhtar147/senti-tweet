{
 "cells": [
  {
   "cell_type": "code",
   "execution_count": 70,
   "metadata": {},
   "outputs": [],
   "source": [
    "import os, json, numpy as np, pandas as pd\n",
    "import seaborn as sns, matplotlib.pyplot as plt\n",
    "import nltk\n",
    "from nltk.corpus import stopwords\n",
    "from tweepy.api import API\n",
    "from tweepy.auth import OAuthHandler\n",
    "from tweepy.cursor import Cursor\n",
    "from tweepy.streaming import Stream, StreamListener\n",
    "from pprint import PrettyPrinter, pformat, pprint\n",
    "from TweepyCredentials import * "
   ]
  },
  {
   "cell_type": "code",
   "execution_count": 71,
   "metadata": {},
   "outputs": [
    {
     "name": "stderr",
     "output_type": "stream",
     "text": [
      "[nltk_data] Downloading package punkt to\n",
      "[nltk_data]     C:\\Users\\Dell\\AppData\\Roaming\\nltk_data...\n",
      "[nltk_data]   Package punkt is already up-to-date!\n",
      "[nltk_data] Downloading package stopwords to\n",
      "[nltk_data]     C:\\Users\\Dell\\AppData\\Roaming\\nltk_data...\n",
      "[nltk_data]   Package stopwords is already up-to-date!\n"
     ]
    },
    {
     "data": {
      "text/plain": [
       "True"
      ]
     },
     "execution_count": 71,
     "metadata": {},
     "output_type": "execute_result"
    }
   ],
   "source": [
    "sns.set_style('whitegrid')\n",
    "%matplotlib inline\n",
    "nltk.download('punkt')\n",
    "nltk.download('stopwords')"
   ]
  },
  {
   "cell_type": "code",
   "execution_count": 72,
   "metadata": {},
   "outputs": [],
   "source": [
    "class Authenticator():\n",
    "    '''A class that authenticates out API call.'''\n",
    "    \n",
    "    def authenticate_tweets(self):\n",
    "        auth = OAuthHandler(CONSUMER_KEY, CONSUMER_KEY_SECRET)\n",
    "        auth.set_access_token(ACCESS_TOKEN, ACCESS_TOKEN_SECRET)\n",
    "        return auth"
   ]
  },
  {
   "cell_type": "code",
   "execution_count": 73,
   "metadata": {},
   "outputs": [],
   "source": [
    "class MyListener(StreamListener):\n",
    "    '''A custom listener class inheriting from tweepy StreamListener class methods that print/write streamed tweets.'''\n",
    "    \n",
    "    def __init__(self, tweet_file):\n",
    "        self.tweet_file = tweet_file\n",
    "        self.auth = Authenticator().authenticate_tweets()\n",
    "    \n",
    "    def on_data(self, status):\n",
    "        try:\n",
    "            # main goal is to append tweets to a list or write the tweets to a file\n",
    "            tweet = json.loads(status)\n",
    "            with open(self.tweet_file, 'a') as tf:\n",
    "                tf.write(tweet['text'])\n",
    "        except BaseException as e:\n",
    "            print('Error: ', str(e))\n",
    "\n",
    "    def on_error(self, error):\n",
    "        print(error)\n",
    "        if error == 420:\n",
    "            return False\n",
    "        "
   ]
  },
  {
   "cell_type": "code",
   "execution_count": 74,
   "metadata": {},
   "outputs": [],
   "source": [
    "class TwitterClient():\n",
    "    '''A class to get various data from a specified user'''\n",
    "    \n",
    "    def __init__(self):\n",
    "        self.auth = Authenticator().authenticate_tweets()\n",
    "        self.client = API(self.auth)\n",
    "        \n",
    "    def get_user_tweets(self, num_tweets, id_):\n",
    "        tweets = []\n",
    "        for tweet in Cursor(self.client.user_timeline, id_).items(num_tweets):\n",
    "            tweets.append(tweet._json)\n",
    "            \n",
    "        delete = []\n",
    "        for tweet in tweets:\n",
    "            for key, value in tweet.items():\n",
    "                if value in [None, False]:\n",
    "                    delete.append(key)    \n",
    "\n",
    "        for key in delete:\n",
    "            if key in tweet:\n",
    "                del tweet[key]\n",
    "            else:\n",
    "                pass    \n",
    "            \n",
    "        return tweets"
   ]
  },
  {
   "cell_type": "code",
   "execution_count": null,
   "metadata": {},
   "outputs": [],
   "source": [
    "if __name__ == \"__main__\":\n",
    "    \n",
    "    from nltk.corpus import stopwords\n",
    "    \n",
    "    client = TwitterClient()\n",
    "    \n",
    "    tweets = client.get_user_tweets(100, 'realDonaldTrump')\n",
    "    tweet_text = [tweet['text'] for tweet in tweets]\n",
    "    retweet_count = [tweet['retweet_count'] for tweet in tweets]\n",
    "    created_at = [tweet['created_at'] for tweet in tweets]\n",
    "    \n",
    "    df['Created At'] = created_at\n",
    "    df['Retweets'] = retweet_count\n",
    "    df['Created At'] = df['Created At']\n",
    "    \n",
    "#     fig = plt.figure(figsize=(15,4))\n",
    "#     axes = fig.add_axes([0,0,1,1])\n",
    "#     axes.plot(df['Created At'], df['Retweets'], label = 'Retweet trend with time')\n",
    "    \n",
    "    stopwords = stopwords.words('english')\n",
    "    added_stopwords = ('a', 'for', '@', 'the', 'with', ',','.','be','to','I')\n",
    "    \n",
    "    for word in added_stopwords:\n",
    "        stopwords.append(word)\n",
    "  \n",
    "    stopwords = set(stopwords)\n",
    "#     print(stopwords)\n",
    "    \n",
    "    tweet_tokens = [nltk.word_tokenize(tweet) for tweet in tweet_text]\n",
    "#     print(pprint(tweet_tokens[1]))\n",
    "    \n",
    "    filtered_stopwords = []\n",
    "    \n",
    "    for token in tweet_tokens:\n",
    "        for word in token:\n",
    "            if word in stopwords:\n",
    "                filtered_stopwords.append(word)\n",
    "                token.remove(word)\n",
    "    print(len(filtered_stopwords))\n",
    "    "
   ]
  },
  {
   "cell_type": "code",
   "execution_count": null,
   "metadata": {},
   "outputs": [],
   "source": [
    "    "
   ]
  }
 ],
 "metadata": {
  "kernelspec": {
   "display_name": "Python 3",
   "language": "python",
   "name": "python3"
  },
  "language_info": {
   "codemirror_mode": {
    "name": "ipython",
    "version": 3
   },
   "file_extension": ".py",
   "mimetype": "text/x-python",
   "name": "python",
   "nbconvert_exporter": "python",
   "pygments_lexer": "ipython3",
   "version": "3.7.4"
  }
 },
 "nbformat": 4,
 "nbformat_minor": 2
}
